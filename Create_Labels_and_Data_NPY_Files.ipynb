{
 "cells": [
  {
   "cell_type": "code",
   "execution_count": 1,
   "metadata": {},
   "outputs": [],
   "source": [
    "# Built on Python 3.6.8\n",
    "import numpy as np #numpy version 1.16.3\n",
    "from skimage import color #skimage version 0.15.0\n",
    "\n",
    "from extract_cifar10 import *"
   ]
  },
  {
   "cell_type": "code",
   "execution_count": 10,
   "metadata": {},
   "outputs": [],
   "source": [
    "# Read data\n",
    "path = './cifar-10-python-raw'\n",
    "no_of_batches = 5 #Hyperparameter: how much training data\n",
    "train_rgb, _, test_rgb, _ = load_cifar10_data(path, no_of_batches) #class labels are discarded"
   ]
  },
  {
   "cell_type": "code",
   "execution_count": 11,
   "metadata": {},
   "outputs": [
    {
     "name": "stdout",
     "output_type": "stream",
     "text": [
      "1000  training images converted to LAB.\n"
     ]
    }
   ],
   "source": [
    "# Convert data from RGB to LAB\n",
    "N = len(train_rgb)\n",
    "train_lab = np.ndarray(train_rgb.shape)\n",
    "for n in range(0, N):\n",
    "    train_lab[n] = color.rgb2lab(train_rgb[n])\n",
    "    if (n+1)%1000==0:\n",
    "        print((n+1),' training images converted to LAB.')\n",
    "\n",
    "test_lab = np.ndarray(test_rgb.shape)\n",
    "for i in range(0, len(test_rgb)):\n",
    "    test_lab[i] = color.rgb2lab(test_rgb[i])\n",
    "    if (i+1)%1000==0:\n",
    "        print((i+1),' testing images converted to LAB.')"
   ]
  },
  {
   "cell_type": "code",
   "execution_count": 12,
   "metadata": {},
   "outputs": [
    {
     "name": "stdout",
     "output_type": "stream",
     "text": [
      "a-range:  -77.64588976708214 80.88842621615811 ; b-range:  -76.65170639208864 88.92920605379284\n"
     ]
    }
   ],
   "source": [
    "#Find the edges of the ab color space\n",
    "inf_a = train_lab[:,:,:,1].min()\n",
    "sup_a = train_lab[:,:,:,1].max()\n",
    "inf_b = train_lab[:,:,:,2].min()\n",
    "sup_b = train_lab[:,:,:,2].max()\n",
    "print('a-range: ', inf_a, sup_a, \"; b-range: \", inf_b, sup_b)"
   ]
  },
  {
   "cell_type": "code",
   "execution_count": 13,
   "metadata": {},
   "outputs": [],
   "source": [
    "# bins are inclusive from below but not from above, e.g. -5 to 4, or 15 to 24\n",
    "def imgs2qmat(train_lab, grid_size, inf_a, sup_a, inf_b, sup_b):\n",
    "    awidth = sup_a-inf_a\n",
    "    bwidth = sup_b-inf_b\n",
    "    bins_a = int(awidth//grid_size + (awidth % grid_size > 0)) #ceiling rounding without importing math package\n",
    "    bins_b = int(bwidth//grid_size + (bwidth % grid_size > 0))\n",
    "    \n",
    "    qmat = np.zeros((bins_a, bins_b))\n",
    "    \n",
    "    train_lab = train_lab[:,:,:,1:3]\n",
    "    inf_array = np.array([inf_a,inf_b])\n",
    "    train_lab = train_lab - inf_array\n",
    "    train_lab = train_lab / grid_size\n",
    "    \n",
    "    for n in range(0, len(train_lab)):\n",
    "        for i in range(0, 32):\n",
    "            for j in range(0, 32):\n",
    "                k = int(np.floor(train_lab[n][i][j][0]))\n",
    "                l = int(np.floor(train_lab[n][i][j][1]))\n",
    "                qmat[k][l] += 1\n",
    "        if (n+1)%1000==0:\n",
    "            print((n+1),' images converted to matrix.')\n",
    "    return qmat, train_lab"
   ]
  },
  {
   "cell_type": "code",
   "execution_count": 14,
   "metadata": {},
   "outputs": [
    {
     "name": "stdout",
     "output_type": "stream",
     "text": [
      "1000  images converted to matrix.\n"
     ]
    }
   ],
   "source": [
    "#convert to bins\n",
    "grid_size = 10 #Hyperparameter: dimension of bin (in ab space, so grid size of 10 equates to 100 pixels in ab space)\n",
    "qmat, bin_indices =  imgs2qmat(train_lab, grid_size, inf_a, sup_a, inf_b, sup_b)\n",
    "#These functions needed to create Q vector per pixel, but for now we are using one hot encoding\n",
    "#lab_bins = get_lab_bins(qmat, bin_indices)"
   ]
  },
  {
   "cell_type": "code",
   "execution_count": 15,
   "metadata": {},
   "outputs": [
    {
     "name": "stdout",
     "output_type": "stream",
     "text": [
      "Number of bins:  176\n"
     ]
    }
   ],
   "source": [
    "#Create Dictionaries that Convert from Bin# to AB\n",
    "q2ab = {}\n",
    "ab2q = {}\n",
    "qid = 0\n",
    "for a in range(0,len(qmat)):\n",
    "    for b in range(0,len(qmat[0])):\n",
    "        if qmat[a][b] > 0:\n",
    "            q2ab[qid] = (a,b)\n",
    "            ab2q[(a,b)] = qid\n",
    "            qid = qid+1\n",
    "print('Number of bins: ', qid)"
   ]
  },
  {
   "cell_type": "code",
   "execution_count": 16,
   "metadata": {},
   "outputs": [
    {
     "name": "stdout",
     "output_type": "stream",
     "text": [
      "1000  training images received bin classification.\n"
     ]
    }
   ],
   "source": [
    "train_labels = np.zeros((len(bin_indices),len(bin_indices[0]),len(bin_indices[0][0])))\n",
    "for n in range(0,len(bin_indices)):\n",
    "    for i in range(0,len(bin_indices[0])):\n",
    "        for j in range (0,len(bin_indices[0][0])):\n",
    "            train_labels[n][i][j] = ab2q[(int(bin_indices[n][i][j][0]), int(bin_indices[n][i][j][1]))]\n",
    "    if (n+1)%1000==0:\n",
    "        print((n+1),' training images received bin classification.')\n",
    "            \n",
    "train_data = train_lab[:,:,:,0]"
   ]
  },
  {
   "cell_type": "code",
   "execution_count": 17,
   "metadata": {},
   "outputs": [
    {
     "ename": "KeyError",
     "evalue": "(13, 14)",
     "output_type": "error",
     "traceback": [
      "\u001b[1;31m---------------------------------------------------------------------------\u001b[0m",
      "\u001b[1;31mKeyError\u001b[0m                                  Traceback (most recent call last)",
      "\u001b[1;32m<ipython-input-17-8f85138d4fda>\u001b[0m in \u001b[0;36m<module>\u001b[1;34m\u001b[0m\n\u001b[0;32m      8\u001b[0m     \u001b[1;32mfor\u001b[0m \u001b[0mi\u001b[0m \u001b[1;32min\u001b[0m \u001b[0mrange\u001b[0m\u001b[1;33m(\u001b[0m\u001b[1;36m0\u001b[0m\u001b[1;33m,\u001b[0m\u001b[0mlen\u001b[0m\u001b[1;33m(\u001b[0m\u001b[0mtest_ab\u001b[0m\u001b[1;33m[\u001b[0m\u001b[1;36m0\u001b[0m\u001b[1;33m]\u001b[0m\u001b[1;33m)\u001b[0m\u001b[1;33m)\u001b[0m\u001b[1;33m:\u001b[0m\u001b[1;33m\u001b[0m\u001b[1;33m\u001b[0m\u001b[0m\n\u001b[0;32m      9\u001b[0m         \u001b[1;32mfor\u001b[0m \u001b[0mj\u001b[0m \u001b[1;32min\u001b[0m \u001b[0mrange\u001b[0m \u001b[1;33m(\u001b[0m\u001b[1;36m0\u001b[0m\u001b[1;33m,\u001b[0m\u001b[0mlen\u001b[0m\u001b[1;33m(\u001b[0m\u001b[0mtest_ab\u001b[0m\u001b[1;33m[\u001b[0m\u001b[1;36m0\u001b[0m\u001b[1;33m]\u001b[0m\u001b[1;33m[\u001b[0m\u001b[1;36m0\u001b[0m\u001b[1;33m]\u001b[0m\u001b[1;33m)\u001b[0m\u001b[1;33m)\u001b[0m\u001b[1;33m:\u001b[0m\u001b[1;33m\u001b[0m\u001b[1;33m\u001b[0m\u001b[0m\n\u001b[1;32m---> 10\u001b[1;33m             \u001b[0mtest_labels\u001b[0m\u001b[1;33m[\u001b[0m\u001b[0mn\u001b[0m\u001b[1;33m]\u001b[0m\u001b[1;33m[\u001b[0m\u001b[0mi\u001b[0m\u001b[1;33m]\u001b[0m\u001b[1;33m[\u001b[0m\u001b[0mj\u001b[0m\u001b[1;33m]\u001b[0m \u001b[1;33m=\u001b[0m \u001b[0mab2q\u001b[0m\u001b[1;33m[\u001b[0m\u001b[1;33m(\u001b[0m\u001b[0mint\u001b[0m\u001b[1;33m(\u001b[0m\u001b[0mtest_ab\u001b[0m\u001b[1;33m[\u001b[0m\u001b[0mn\u001b[0m\u001b[1;33m]\u001b[0m\u001b[1;33m[\u001b[0m\u001b[0mi\u001b[0m\u001b[1;33m]\u001b[0m\u001b[1;33m[\u001b[0m\u001b[0mj\u001b[0m\u001b[1;33m]\u001b[0m\u001b[1;33m[\u001b[0m\u001b[1;36m0\u001b[0m\u001b[1;33m]\u001b[0m\u001b[1;33m)\u001b[0m\u001b[1;33m,\u001b[0m \u001b[0mint\u001b[0m\u001b[1;33m(\u001b[0m\u001b[0mtest_ab\u001b[0m\u001b[1;33m[\u001b[0m\u001b[0mn\u001b[0m\u001b[1;33m]\u001b[0m\u001b[1;33m[\u001b[0m\u001b[0mi\u001b[0m\u001b[1;33m]\u001b[0m\u001b[1;33m[\u001b[0m\u001b[0mj\u001b[0m\u001b[1;33m]\u001b[0m\u001b[1;33m[\u001b[0m\u001b[1;36m1\u001b[0m\u001b[1;33m]\u001b[0m\u001b[1;33m)\u001b[0m\u001b[1;33m)\u001b[0m\u001b[1;33m]\u001b[0m\u001b[1;33m\u001b[0m\u001b[1;33m\u001b[0m\u001b[0m\n\u001b[0m\u001b[0;32m     11\u001b[0m     \u001b[1;32mif\u001b[0m \u001b[1;33m(\u001b[0m\u001b[0mn\u001b[0m\u001b[1;33m+\u001b[0m\u001b[1;36m1\u001b[0m\u001b[1;33m)\u001b[0m\u001b[1;33m%\u001b[0m\u001b[1;36m1000\u001b[0m\u001b[1;33m==\u001b[0m\u001b[1;36m0\u001b[0m\u001b[1;33m:\u001b[0m\u001b[1;33m\u001b[0m\u001b[1;33m\u001b[0m\u001b[0m\n\u001b[0;32m     12\u001b[0m         \u001b[0mprint\u001b[0m\u001b[1;33m(\u001b[0m\u001b[1;33m(\u001b[0m\u001b[0mn\u001b[0m\u001b[1;33m+\u001b[0m\u001b[1;36m1\u001b[0m\u001b[1;33m)\u001b[0m\u001b[1;33m,\u001b[0m\u001b[1;34m' test images received bin classification.'\u001b[0m\u001b[1;33m)\u001b[0m\u001b[1;33m\u001b[0m\u001b[1;33m\u001b[0m\u001b[0m\n",
      "\u001b[1;31mKeyError\u001b[0m: (13, 14)"
     ]
    }
   ],
   "source": [
    "test_ab = test_lab[:,:,:,1:3]\n",
    "inf_array = np.array([inf_a,inf_b])\n",
    "test_ab = test_ab - inf_array\n",
    "test_ab = test_ab / grid_size\n",
    "    \n",
    "test_labels = np.zeros((len(test_ab),len(test_ab[0]),len(test_ab[0][0])))\n",
    "for n in range(0,len(test_ab)):\n",
    "    for i in range(0,len(test_ab[0])):\n",
    "        for j in range (0,len(test_ab[0][0])):          \n",
    "            test_labels[n][i][j] = ab2q[(int(test_ab[n][i][j][0]), int(test_ab[n][i][j][1]))]\n",
    "    if (n+1)%1000==0:\n",
    "        print((n+1),' test images received bin classification.')        \n",
    "test_data = test_lab[:,:,:,0]"
   ]
  },
  {
   "cell_type": "code",
   "execution_count": 10,
   "metadata": {},
   "outputs": [],
   "source": [
    "# save to file\n",
    "np.save('./cifar-10-npy/train_labels_1hot', train_labels)\n",
    "np.save('./cifar-10-npy/train_data', train_data)\n",
    "np.save('./cifar-10-npy/test_labels_1hot', test_labels)\n",
    "np.save('./cifar-10-npy/test_data', test_data)\n",
    "np.save('./cifar-10-npy/bins_to_ab_dictionary', q2ab)\n",
    "np.save('./cifar-10-npy/binning_parameters', np.array([inf_a,inf_b, grid_size]))"
   ]
  }
 ],
 "metadata": {
  "kernelspec": {
   "display_name": "Python 3",
   "language": "python",
   "name": "python3"
  },
  "language_info": {
   "codemirror_mode": {
    "name": "ipython",
    "version": 3
   },
   "file_extension": ".py",
   "mimetype": "text/x-python",
   "name": "python",
   "nbconvert_exporter": "python",
   "pygments_lexer": "ipython3",
   "version": "3.6.8"
  }
 },
 "nbformat": 4,
 "nbformat_minor": 2
}
