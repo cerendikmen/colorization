{
 "cells": [
  {
   "cell_type": "code",
   "execution_count": 1,
   "metadata": {},
   "outputs": [],
   "source": [
    "# Built on Python 3.6.8\n",
    "import numpy as np #numpy version 1.16.3\n",
    "from skimage import color #skimage version 0.15.0"
   ]
  },
  {
   "cell_type": "code",
   "execution_count": 2,
   "metadata": {},
   "outputs": [],
   "source": [
    "#Import Data\n",
    "parameters = np.load('./cifar-10-npy/binning_parameters.npy')\n",
    "dictionary = np.load('./cifar-10-npy/bins_to_ab_dictionary.npy', allow_pickle=True)\n",
    "dictionary = dictionary.tolist()\n",
    "bins = np.load('./cifar-10-npy/test_labels_predictions.npy')\n",
    "l = np.load('./cifar-10-npy/test_data_predictions.npy')\n",
    "l = np.reshape(l, newshape=(len(l),len(l[0]),len(l[0][0]),1))"
   ]
  },
  {
   "cell_type": "code",
   "execution_count": 3,
   "metadata": {},
   "outputs": [],
   "source": [
    "#Convert from Bins to AB\n",
    "inf_array = parameters[0:2]\n",
    "grid_size = parameters[2]\n",
    "\n",
    "image_ab = np.zeros((len(bins),len(bins[0]),len(bins[0][0]),2))\n",
    "np.shape(image_ab)\n",
    "for n in range(0, len(bins)):\n",
    "    for i in range(0, len(bins[0])):\n",
    "        for j in range(0, len(bins[0][0])):\n",
    "            ab_tuple = dictionary[bins[n][i][j][0]]\n",
    "            image_ab[n][i][j][0] = ab_tuple[0]\n",
    "            image_ab[n][i][j][1] = ab_tuple[1]\n",
    "            \n",
    "image_ab = image_ab + 0.5 #Add .5 to both a and b so that middle value in bin is selected\n",
    "image_ab = image_ab * grid_size\n",
    "image_ab = image_ab + inf_array"
   ]
  },
  {
   "cell_type": "code",
   "execution_count": 4,
   "metadata": {},
   "outputs": [],
   "source": [
    "#Build LAB Array\n",
    "image_lab = np.concatenate((l, image_ab), axis=3)"
   ]
  },
  {
   "cell_type": "code",
   "execution_count": 5,
   "metadata": {},
   "outputs": [
    {
     "name": "stderr",
     "output_type": "stream",
     "text": [
      "c:\\users\\hara kumar\\appdata\\local\\programs\\python\\python36\\lib\\site-packages\\skimage\\color\\colorconv.py:988: UserWarning: Color data out of range: Z < 0 in 486 pixels\n",
      "  warn('Color data out of range: Z < 0 in %s pixels' % invalid[0].size)\n",
      "c:\\users\\hara kumar\\appdata\\local\\programs\\python\\python36\\lib\\site-packages\\skimage\\color\\colorconv.py:988: UserWarning: Color data out of range: Z < 0 in 265 pixels\n",
      "  warn('Color data out of range: Z < 0 in %s pixels' % invalid[0].size)\n",
      "c:\\users\\hara kumar\\appdata\\local\\programs\\python\\python36\\lib\\site-packages\\skimage\\color\\colorconv.py:988: UserWarning: Color data out of range: Z < 0 in 371 pixels\n",
      "  warn('Color data out of range: Z < 0 in %s pixels' % invalid[0].size)\n",
      "c:\\users\\hara kumar\\appdata\\local\\programs\\python\\python36\\lib\\site-packages\\skimage\\color\\colorconv.py:988: UserWarning: Color data out of range: Z < 0 in 253 pixels\n",
      "  warn('Color data out of range: Z < 0 in %s pixels' % invalid[0].size)\n"
     ]
    }
   ],
   "source": [
    "# Convert from LAB to RGB\n",
    "N = len(image_lab)\n",
    "image_rgb = np.ndarray(image_lab.shape)\n",
    "for n in range(0, N):\n",
    "    image_rgb[n] = color.lab2rgb(image_lab[n])\n",
    "    if (n+1)%1000==0:\n",
    "        print((n+1),' images converted to RGB.')"
   ]
  },
  {
   "cell_type": "code",
   "execution_count": 9,
   "metadata": {},
   "outputs": [
    {
     "data": {
      "image/png": "[encoded data removed]",
      "text/plain": [
       "<Figure size 432x288 with 1 Axes>"
      ]
     },
     "metadata": {
      "needs_background": "light"
     },
     "output_type": "display_data"
    }
   ],
   "source": [
    "import matplotlib.pyplot as plt\n",
    "plt.imshow(image_rgb[3])\n",
    "plt.show()"
   ]
  },
  {
   "cell_type": "code",
   "execution_count": null,
   "metadata": {},
   "outputs": [],
   "source": []
  }
 ],
 "metadata": {
  "kernelspec": {
   "display_name": "Python 3",
   "language": "python",
   "name": "python3"
  },
  "language_info": {
   "codemirror_mode": {
    "name": "ipython",
    "version": 3
   },
   "file_extension": ".py",
   "mimetype": "text/x-python",
   "name": "python",
   "nbconvert_exporter": "python",
   "pygments_lexer": "ipython3",
   "version": "3.6.8"
  }
 },
 "nbformat": 4,
 "nbformat_minor": 2
}
