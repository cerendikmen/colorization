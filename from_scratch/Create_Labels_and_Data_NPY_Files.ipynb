{
 "cells": [
  {
   "cell_type": "code",
   "execution_count": 1,
   "metadata": {},
   "outputs": [],
   "source": [
    "# Built on Python 3.6.8\n",
    "import numpy as np #numpy version 1.16.3\n",
    "from skimage import color #skimage version 0.15.0\n",
    "\n",
    "from extract_cifar10 import *"
   ]
  },
  {
   "cell_type": "code",
   "execution_count": 3,
   "metadata": {},
   "outputs": [],
   "source": [
    "# Read data\n",
    "path = '../cifar-10-python/cifar-10-batches-py'\n",
    "no_of_batches = 5 #Hyperparameter: how much training data\n",
    "train_rgb, _, test_rgb, _ = load_cifar10_data(path, no_of_batches) #class labels are discarded"
   ]
  },
  {
   "cell_type": "code",
   "execution_count": 4,
   "metadata": {},
   "outputs": [
    {
     "name": "stdout",
     "output_type": "stream",
     "text": [
      "1000  training images converted to LAB.\n",
      "2000  training images converted to LAB.\n",
      "3000  training images converted to LAB.\n",
      "4000  training images converted to LAB.\n",
      "5000  training images converted to LAB.\n",
      "6000  training images converted to LAB.\n",
      "7000  training images converted to LAB.\n",
      "8000  training images converted to LAB.\n",
      "9000  training images converted to LAB.\n",
      "10000  training images converted to LAB.\n",
      "11000  training images converted to LAB.\n",
      "12000  training images converted to LAB.\n",
      "13000  training images converted to LAB.\n",
      "14000  training images converted to LAB.\n",
      "15000  training images converted to LAB.\n",
      "16000  training images converted to LAB.\n",
      "17000  training images converted to LAB.\n",
      "18000  training images converted to LAB.\n",
      "19000  training images converted to LAB.\n",
      "20000  training images converted to LAB.\n",
      "21000  training images converted to LAB.\n",
      "22000  training images converted to LAB.\n",
      "23000  training images converted to LAB.\n",
      "24000  training images converted to LAB.\n",
      "25000  training images converted to LAB.\n",
      "26000  training images converted to LAB.\n",
      "27000  training images converted to LAB.\n",
      "28000  training images converted to LAB.\n",
      "29000  training images converted to LAB.\n",
      "30000  training images converted to LAB.\n",
      "31000  training images converted to LAB.\n",
      "32000  training images converted to LAB.\n",
      "33000  training images converted to LAB.\n",
      "34000  training images converted to LAB.\n",
      "35000  training images converted to LAB.\n",
      "36000  training images converted to LAB.\n",
      "37000  training images converted to LAB.\n",
      "38000  training images converted to LAB.\n",
      "39000  training images converted to LAB.\n",
      "40000  training images converted to LAB.\n",
      "41000  training images converted to LAB.\n",
      "42000  training images converted to LAB.\n",
      "43000  training images converted to LAB.\n",
      "44000  training images converted to LAB.\n",
      "45000  training images converted to LAB.\n",
      "46000  training images converted to LAB.\n",
      "47000  training images converted to LAB.\n",
      "48000  training images converted to LAB.\n",
      "49000  training images converted to LAB.\n",
      "50000  training images converted to LAB.\n",
      "1000  testing images converted to LAB.\n",
      "2000  testing images converted to LAB.\n",
      "3000  testing images converted to LAB.\n",
      "4000  testing images converted to LAB.\n",
      "5000  testing images converted to LAB.\n",
      "6000  testing images converted to LAB.\n",
      "7000  testing images converted to LAB.\n",
      "8000  testing images converted to LAB.\n",
      "9000  testing images converted to LAB.\n",
      "10000  testing images converted to LAB.\n"
     ]
    }
   ],
   "source": [
    "# Convert data from RGB to LAB\n",
    "N = len(train_rgb)\n",
    "train_lab = np.ndarray(train_rgb.shape)\n",
    "for n in range(0, N):\n",
    "    train_lab[n] = color.rgb2lab(train_rgb[n])\n",
    "    if (n+1)%1000==0:\n",
    "        print((n+1),' training images converted to LAB.')\n",
    "\n",
    "test_lab = np.ndarray(test_rgb.shape)\n",
    "for i in range(0, len(test_rgb)):\n",
    "    test_lab[i] = color.rgb2lab(test_rgb[i])\n",
    "    if (i+1)%1000==0:\n",
    "        print((i+1),' testing images converted to LAB.')"
   ]
  },
  {
   "cell_type": "code",
   "execution_count": 5,
   "metadata": {},
   "outputs": [
    {
     "name": "stdout",
     "output_type": "stream",
     "text": [
      "a-range:  -86.18302974439501 98.23305386311321 ; b-range:  -107.85730020669489 94.47812227647825\n"
     ]
    }
   ],
   "source": [
    "#Find the edges of the ab color space\n",
    "inf_a = train_lab[:,:,:,1].min()\n",
    "sup_a = train_lab[:,:,:,1].max()\n",
    "inf_b = train_lab[:,:,:,2].min()\n",
    "sup_b = train_lab[:,:,:,2].max()\n",
    "print('a-range: ', inf_a, sup_a, \"; b-range: \", inf_b, sup_b)"
   ]
  },
  {
   "cell_type": "code",
   "execution_count": 6,
   "metadata": {},
   "outputs": [],
   "source": [
    "# bins are inclusive from below but not from above, e.g. -5 to 4, or 15 to 24\n",
    "def imgs2qmat(train_lab, grid_size, inf_a, sup_a, inf_b, sup_b):\n",
    "    awidth = sup_a-inf_a\n",
    "    bwidth = sup_b-inf_b\n",
    "    bins_a = int(awidth//grid_size + (awidth % grid_size > 0)) #ceiling rounding without importing math package\n",
    "    bins_b = int(bwidth//grid_size + (bwidth % grid_size > 0))\n",
    "    \n",
    "    qmat = np.zeros((bins_a, bins_b))\n",
    "    \n",
    "    train_lab = train_lab[:,:,:,1:3]\n",
    "    inf_array = np.array([inf_a,inf_b])\n",
    "    train_lab = train_lab - inf_array\n",
    "    train_lab = train_lab / grid_size\n",
    "    \n",
    "    for n in range(0, len(train_lab)):\n",
    "        for i in range(0, 32):\n",
    "            for j in range(0, 32):\n",
    "                k = int(np.floor(train_lab[n][i][j][0]))\n",
    "                l = int(np.floor(train_lab[n][i][j][1]))\n",
    "                qmat[k][l] += 1\n",
    "        if (n+1)%1000==0:\n",
    "            print((n+1),' images converted to matrix.')\n",
    "    return qmat, train_lab"
   ]
  },
  {
   "cell_type": "code",
   "execution_count": 7,
   "metadata": {},
   "outputs": [
    {
     "name": "stdout",
     "output_type": "stream",
     "text": [
      "1000  images converted to matrix.\n",
      "2000  images converted to matrix.\n",
      "3000  images converted to matrix.\n",
      "4000  images converted to matrix.\n",
      "5000  images converted to matrix.\n",
      "6000  images converted to matrix.\n",
      "7000  images converted to matrix.\n",
      "8000  images converted to matrix.\n",
      "9000  images converted to matrix.\n",
      "10000  images converted to matrix.\n",
      "11000  images converted to matrix.\n",
      "12000  images converted to matrix.\n",
      "13000  images converted to matrix.\n",
      "14000  images converted to matrix.\n",
      "15000  images converted to matrix.\n",
      "16000  images converted to matrix.\n",
      "17000  images converted to matrix.\n",
      "18000  images converted to matrix.\n",
      "19000  images converted to matrix.\n",
      "20000  images converted to matrix.\n",
      "21000  images converted to matrix.\n",
      "22000  images converted to matrix.\n",
      "23000  images converted to matrix.\n",
      "24000  images converted to matrix.\n",
      "25000  images converted to matrix.\n",
      "26000  images converted to matrix.\n",
      "27000  images converted to matrix.\n",
      "28000  images converted to matrix.\n",
      "29000  images converted to matrix.\n",
      "30000  images converted to matrix.\n",
      "31000  images converted to matrix.\n",
      "32000  images converted to matrix.\n",
      "33000  images converted to matrix.\n",
      "34000  images converted to matrix.\n",
      "35000  images converted to matrix.\n",
      "36000  images converted to matrix.\n",
      "37000  images converted to matrix.\n",
      "38000  images converted to matrix.\n",
      "39000  images converted to matrix.\n",
      "40000  images converted to matrix.\n",
      "41000  images converted to matrix.\n",
      "42000  images converted to matrix.\n",
      "43000  images converted to matrix.\n",
      "44000  images converted to matrix.\n",
      "45000  images converted to matrix.\n",
      "46000  images converted to matrix.\n",
      "47000  images converted to matrix.\n",
      "48000  images converted to matrix.\n",
      "49000  images converted to matrix.\n",
      "50000  images converted to matrix.\n"
     ]
    }
   ],
   "source": [
    "#convert to bins\n",
    "grid_size = 10 #Hyperparameter: dimension of bin (in ab space, so grid size of 10 equates to 100 pixels in ab space)\n",
    "qmat, bin_indices =  imgs2qmat(train_lab, grid_size, inf_a, sup_a, inf_b, sup_b)\n",
    "#These functions needed to create Q vector per pixel, but for now we are using one hot encoding\n",
    "#lab_bins = get_lab_bins(qmat, bin_indices)"
   ]
  },
  {
   "cell_type": "code",
   "execution_count": 8,
   "metadata": {},
   "outputs": [
    {
     "name": "stdout",
     "output_type": "stream",
     "text": [
      "Number of bins:  246\n"
     ]
    }
   ],
   "source": [
    "#Create Dictionaries that Convert from Bin# to AB\n",
    "q2ab = {}\n",
    "ab2q = {}\n",
    "qid = 0\n",
    "for a in range(0,len(qmat)):\n",
    "    for b in range(0,len(qmat[0])):\n",
    "        if qmat[a][b] > 0:\n",
    "            q2ab[qid] = (a,b)\n",
    "            ab2q[(a,b)] = qid\n",
    "            qid = qid+1\n",
    "print('Number of bins: ', qid)"
   ]
  },
  {
   "cell_type": "code",
   "execution_count": 9,
   "metadata": {},
   "outputs": [
    {
     "name": "stdout",
     "output_type": "stream",
     "text": [
      "1000  training images received bin classification.\n",
      "2000  training images received bin classification.\n",
      "3000  training images received bin classification.\n",
      "4000  training images received bin classification.\n",
      "5000  training images received bin classification.\n",
      "6000  training images received bin classification.\n",
      "7000  training images received bin classification.\n",
      "8000  training images received bin classification.\n",
      "9000  training images received bin classification.\n",
      "10000  training images received bin classification.\n",
      "11000  training images received bin classification.\n",
      "12000  training images received bin classification.\n",
      "13000  training images received bin classification.\n",
      "14000  training images received bin classification.\n",
      "15000  training images received bin classification.\n",
      "16000  training images received bin classification.\n",
      "17000  training images received bin classification.\n",
      "18000  training images received bin classification.\n",
      "19000  training images received bin classification.\n",
      "20000  training images received bin classification.\n",
      "21000  training images received bin classification.\n",
      "22000  training images received bin classification.\n",
      "23000  training images received bin classification.\n",
      "24000  training images received bin classification.\n",
      "25000  training images received bin classification.\n",
      "26000  training images received bin classification.\n",
      "27000  training images received bin classification.\n",
      "28000  training images received bin classification.\n",
      "29000  training images received bin classification.\n",
      "30000  training images received bin classification.\n",
      "31000  training images received bin classification.\n",
      "32000  training images received bin classification.\n",
      "33000  training images received bin classification.\n",
      "34000  training images received bin classification.\n",
      "35000  training images received bin classification.\n",
      "36000  training images received bin classification.\n",
      "37000  training images received bin classification.\n",
      "38000  training images received bin classification.\n",
      "39000  training images received bin classification.\n",
      "40000  training images received bin classification.\n",
      "41000  training images received bin classification.\n",
      "42000  training images received bin classification.\n",
      "43000  training images received bin classification.\n",
      "44000  training images received bin classification.\n",
      "45000  training images received bin classification.\n",
      "46000  training images received bin classification.\n",
      "47000  training images received bin classification.\n",
      "48000  training images received bin classification.\n",
      "49000  training images received bin classification.\n",
      "50000  training images received bin classification.\n"
     ]
    }
   ],
   "source": [
    "train_labels = np.zeros((len(bin_indices),len(bin_indices[0]),len(bin_indices[0][0])))\n",
    "for n in range(0,len(bin_indices)):\n",
    "    for i in range(0,len(bin_indices[0])):\n",
    "        for j in range (0,len(bin_indices[0][0])):\n",
    "            train_labels[n][i][j] = ab2q[(int(bin_indices[n][i][j][0]), int(bin_indices[n][i][j][1]))]\n",
    "    if (n+1)%1000==0:\n",
    "        print((n+1),' training images received bin classification.')\n",
    "            \n",
    "train_data = train_lab[:,:,:,0]"
   ]
  },
  {
   "cell_type": "code",
   "execution_count": 10,
   "metadata": {},
   "outputs": [
    {
     "name": "stdout",
     "output_type": "stream",
     "text": [
      "1000  test images received bin classification.\n",
      "2000  test images received bin classification.\n",
      "3000  test images received bin classification.\n",
      "4000  test images received bin classification.\n",
      "5000  test images received bin classification.\n",
      "6000  test images received bin classification.\n",
      "7000  test images received bin classification.\n",
      "8000  test images received bin classification.\n",
      "9000  test images received bin classification.\n",
      "10000  test images received bin classification.\n"
     ]
    }
   ],
   "source": [
    "test_ab = test_lab[:,:,:,1:3]\n",
    "inf_array = np.array([inf_a,inf_b])\n",
    "test_ab = test_ab - inf_array\n",
    "test_ab = test_ab / grid_size\n",
    "    \n",
    "test_labels = np.zeros((len(test_ab),len(test_ab[0]),len(test_ab[0][0])))\n",
    "for n in range(0,len(test_ab)):\n",
    "    for i in range(0,len(test_ab[0])):\n",
    "        for j in range (0,len(test_ab[0][0])):          \n",
    "            #WARNING: Results in error if the training sample does not contain a color found in the test sample\n",
    "            test_labels[n][i][j] = ab2q[(int(test_ab[n][i][j][0]), int(test_ab[n][i][j][1]))]\n",
    "    if (n+1)%1000==0:\n",
    "        print((n+1),' test images received bin classification.')        \n",
    "test_data = test_lab[:,:,:,0]"
   ]
  },
  {
   "cell_type": "code",
   "execution_count": 11,
   "metadata": {},
   "outputs": [],
   "source": [
    "# save to file\n",
    "np.save('./cifar-10-npy/train_labels_1hot', train_labels)\n",
    "np.save('./cifar-10-npy/train_data', train_data)\n",
    "np.save('./cifar-10-npy/test_labels_1hot', test_labels)\n",
    "np.save('./cifar-10-npy/test_data', test_data)\n",
    "np.save('./cifar-10-npy/bins_to_ab_dictionary', q2ab)\n",
    "np.save('./cifar-10-npy/binning_parameters', np.array([inf_a,inf_b, grid_size]))"
   ]
  }
 ],
 "metadata": {
  "kernelspec": {
   "display_name": "Python 3",
   "language": "python",
   "name": "python3"
  },
  "language_info": {
   "codemirror_mode": {
    "name": "ipython",
    "version": 3
   },
   "file_extension": ".py",
   "mimetype": "text/x-python",
   "name": "python",
   "nbconvert_exporter": "python",
   "pygments_lexer": "ipython3",
   "version": "3.6.8"
  }
 },
 "nbformat": 4,
 "nbformat_minor": 2
}
